{
  "nbformat": 4,
  "nbformat_minor": 0,
  "metadata": {
    "kernelspec": {
      "name": "python3",
      "display_name": "Python 3"
    },
    "colab": {
      "name": "hw4.ipynb",
      "provenance": [],
      "collapsed_sections": []
    }
  },
  "cells": [
    {
      "cell_type": "markdown",
      "metadata": {
        "id": "nuCFdN40kD3N"
      },
      "source": [
        "\n",
        "\n",
        "```\n",
        "# This is formatted as code\n",
        "```\n",
        "\n",
        "# Assignment 4: Differentiation and optimization"
      ]
    },
    {
      "cell_type": "code",
      "metadata": {
        "id": "EbQdRNfPkD3N"
      },
      "source": [
        "import sympy as sym # symbolic differentiation\n",
        "import jax          # algorithmic differentiation\n",
        "import jax.numpy as np\n",
        "import matplotlib.pyplot as plt"
      ],
      "execution_count": 1,
      "outputs": []
    },
    {
      "cell_type": "markdown",
      "metadata": {
        "id": "0NFDA3uFHcf_"
      },
      "source": [
        "## Question 1: Differentiations\n",
        "\n",
        "Function \n",
        "\n",
        "$$f(a, b) = \\frac a b cos(a)^2 \\exp \\left( - \\frac {a^2} {b^2}\\right)$$\n",
        "\n",
        "is given."
      ]
    },
    {
      "cell_type": "markdown",
      "metadata": {
        "id": "CvlvWUY1WdMZ"
      },
      "source": [
        "1. Derive the partial derivatives of $f(a, b)$ by $a$ and $b$. (Write them in this text)\n",
        "\n",
        "    $$\\frac {\\partial f} {\\partial a} = \\frac{e^{-\\frac{a^2}{b^2}}\\cos ^2\\left(a\\right)}{b} - \\frac{2a^2e^{-\\frac{a^2}{b^2}}\\cos^2\\left(a\\right)}{b^3}-\\frac{2e^{-\\frac{a^2}{b^2}}\\sin\\left(a\\right)\\cos\\left(a\\right)}{b} $$\n",
        "   \n",
        "    $$\\frac {\\partial f} {\\partial b}=a\\cos ^2\\left(a\\right)\\left(-\\frac{e^{-\\frac{a^2}{b^2}}}{b^2}+\\frac{2a^2e^{-\\frac{a^2}{b^2}}}{b^4}\\right) $$\n",
        "    "
      ]
    },
    {
      "cell_type": "markdown",
      "metadata": {
        "id": "teHG_JS4ZE9s"
      },
      "source": [
        "2. Implement the derivatives as Python functions:\n",
        "  1. According to symbolic expressions. (print the expressions)\n",
        "  2. Using algorithmic differentiation (with `jax`).\n",
        "      * For a two variable function, $ f(a,b) $, its gradients by $x$ and $y$ can be obtained like this: df_dxy = jax.grad(f, argnums=(0, 1)). The x, and y derivatives are then: df_dxy[0] = df_dx, and df_dxy[1] = df_dy.\n",
        "\n",
        "$-$\n",
        "\n",
        "  \n",
        "Compare the accuracy of symbolic and algorithmic differentiation:\n",
        "\n",
        "\n",
        "1.   Choose a number of points in the range: $a\\in(-20, 20)$, and $b\\in(1, 100)$.\n",
        "2.   Calculate the squared error between simbolic and algorithmic differentiation for each set of points $(a,b)$.\n",
        "3. Average all the errors. (print the average error obtained)\n",
        "\n"
      ]
    },
    {
      "cell_type": "code",
      "metadata": {
        "id": "vJV-ytPHZJRR",
        "colab": {
          "base_uri": "https://localhost:8080/"
        },
        "outputId": "d7cfb7cf-1f30-44fe-ae61-9466e820646d"
      },
      "source": [
        "#Symbolic derivatives expressions :\n",
        "def expressions():\n",
        "    a = sym.Symbol('a')\n",
        "    b = sym.Symbol('b')\n",
        "    f = (a/b)*((sym.cos(a))**2)*sym.exp(-(a**2/b**2))\n",
        "    dfda = sym.diff(f, a)\n",
        "    dfdb = sym.diff(f, b)\n",
        "    print(f\" derivative with importance to a = {dfda}\")\n",
        "    print(f\" derivative with importance to b = {dfdb}\")\n",
        "expressions()\n",
        "\n",
        "#Symbolic derivative function\n",
        "def Sym_der(a,b):\n",
        "    der_a = -2*a**2*np.exp(-a**2/b**2)*np.cos(a)**2/b**3 - 2*a*np.exp(-a**2/b**2)*np.sin(a)*np.cos(a)/b + np.exp(-a**2/b**2)*np.cos(a)**2/b\n",
        "    der_b =  2*a**3*np.exp(-a**2/b**2)*np.cos(a)**2/b**4 - a*np.exp(-a**2/b**2)*np.cos(a)**2/b**2\n",
        "    ans = (der_a, der_b)\n",
        "    return ans\n",
        "\n",
        "#similar to foo from class\n",
        "def func(a,b):\n",
        "    x = (a/b) * (np.cos(a)**2)\n",
        "    y = np.exp(-(a**2)/(b**2))\n",
        "    output = x*y\n",
        "    return output\n",
        "\n",
        "#Algorithmic derivative\n",
        "def Alg_der():\n",
        "    der_1=jax.grad(func, 0)\n",
        "    der_2=jax.grad(func, 1)\n",
        "    output = (der_1, der_2)\n",
        "    return output\n",
        "\n",
        "#Finding the average error\n",
        "p_List = [(-16.0, 16.0), (-5.0, 7.0), (10.0, 11.0), (3.0, 70.0), (15.0, 12.0), (2.0, 50.0)]\n",
        "length = len(p_List)\n",
        "tmp_Error1 = 0\n",
        "tmp_Error2 = 0\n",
        "for i in range(length):\n",
        "  (a,b) = p_List[i]\n",
        "  tmp_1 = abs((Alg_der()[0](a,b)) - (Sym_der(a,b)[0]))\n",
        "  tmp_Error1 = tmp_Error1 + tmp_1\n",
        "  tmp_2 = abs((Alg_der()[1](a,b)) - (Sym_der(a,b)[1]))\n",
        "  tmp_Error2 = tmp_Error2 + tmp_2\n",
        "  ans = ((tmp_Error1 / 6) * (tmp_Error2 / 6))\n",
        "print(f\" Average Error = {ans}\")\n",
        "    "
      ],
      "execution_count": 2,
      "outputs": [
        {
          "output_type": "stream",
          "name": "stderr",
          "text": [
            "WARNING:absl:No GPU/TPU found, falling back to CPU. (Set TF_CPP_MIN_LOG_LEVEL=0 and rerun for more info.)\n"
          ]
        },
        {
          "output_type": "stream",
          "name": "stdout",
          "text": [
            " derivative with importance to a = -2*a**2*exp(-a**2/b**2)*cos(a)**2/b**3 - 2*a*exp(-a**2/b**2)*sin(a)*cos(a)/b + exp(-a**2/b**2)*cos(a)**2/b\n",
            " derivative with importance to b = 2*a**3*exp(-a**2/b**2)*cos(a)**2/b**4 - a*exp(-a**2/b**2)*cos(a)**2/b**2\n",
            " Average Error = 3.469446951953614e-18\n"
          ]
        }
      ]
    },
    {
      "cell_type": "markdown",
      "metadata": {
        "id": "K95Vz9uTWzv5"
      },
      "source": [
        "3. Plot \n",
        "  * $f(a, 10)$, $\\frac {\\partial f(a, 10)} {\\partial a}$ for range $a \\in [-20, 20]$, \n",
        "  * $f(10, b)$, $\\frac {\\partial f(10, b)} {\\partial b}$ for range $b \\in 1, 100$."
      ]
    },
    {
      "cell_type": "code",
      "metadata": {
        "id": "nKErhdqUYhw6",
        "colab": {
          "base_uri": "https://localhost:8080/",
          "height": 531
        },
        "outputId": "5c4eaaa6-145a-4ff7-bc6a-f47280e5c81d"
      },
      "source": [
        "e_1 = jax.grad(func, 0)\n",
        "x = np.linspace(-20, 20, 100)\n",
        "y = np.linspace(1, 100, 100)\n",
        "plt.plot(x, [func(a,10) for a in x], label=\"\")\n",
        "plt.plot(x, [e_1(a,10) for a in x], label=\"\")\n",
        "plt.show()\n",
        "e_2 = jax.grad(func, 1)\n",
        "plt.plot(y, [func(10,b) for b in y], label=\"\")\n",
        "plt.plot(y, [e_2(10,b) for b in y], label=\"\")"
      ],
      "execution_count": 3,
      "outputs": [
        {
          "output_type": "display_data",
          "data": {
            "text/plain": [
              "<Figure size 432x288 with 1 Axes>"
            ],
            "image/png": "[encoded data removed]"
          },
          "metadata": {
            "needs_background": "light"
          }
        },
        {
          "output_type": "execute_result",
          "data": {
            "text/plain": [
              "[<matplotlib.lines.Line2D at 0x7f46a3c2c810>]"
            ]
          },
          "metadata": {},
          "execution_count": 3
        },
        {
          "output_type": "display_data",
          "data": {
            "text/plain": [
              "<Figure size 432x288 with 1 Axes>"
            ],
            "image/png": "[encoded data removed]"
          },
          "metadata": {
            "needs_background": "light"
          }
        }
      ]
    },
    {
      "cell_type": "markdown",
      "metadata": {
        "id": "ZT8qvZtLZVpr"
      },
      "source": [
        "4. Implement a function for approximate numerical differentiation, given the difference size $h$."
      ]
    },
    {
      "cell_type": "code",
      "metadata": {
        "id": "Xiylvd_FZnjB"
      },
      "source": [
        "def diff(f, x, h):\n",
        "  output = f(x+h) - f(x)\n",
        "  return output / h"
      ],
      "execution_count": 4,
      "outputs": []
    },
    {
      "cell_type": "markdown",
      "metadata": {
        "id": "NvamVGzCZzeT"
      },
      "source": [
        "5. Find the best difference size $h$ for differentiating\n",
        "   * $f(3, 10)$ by $a$.\n",
        "   * $f(1, 1)$ by $b$.\n",
        "\n",
        "(Print the best step size, the derivative obtained and the difference between the numerical and the exact (algorithmic or symbolic) derivatives)\n",
        "\n",
        "The best difference size minimizes the error of numerical differentiation relative to the exact differentiation.\n",
        "\n",
        "Note: In this excercise it is recommended to use gradient descent, however a simple search is also accepted.\n"
      ]
    },
    {
      "cell_type": "code",
      "metadata": {
        "id": "A-_-Mpn1aHuL",
        "colab": {
          "base_uri": "https://localhost:8080/"
        },
        "outputId": "9f696b3e-c1b4-4b37-e9d2-327a821d5ce1"
      },
      "source": [
        "def der_sym_a(a,b):\n",
        "  return -2*a**2*np.exp(-a**2/b**2)*np.cos(a)**2/b**3 - 2*a*np.exp(-a**2/b**2)*np.sin(a)*np.cos(a)/b + np.exp(-a**2/b**2)*np.cos(a)**2/b\n",
        "\n",
        "def der_sym_b(a,b):\n",
        "  return 2*a**3*np.exp(-a**2/b**2)*np.cos(a)**2/b**4 - a*np.exp(-a**2/b**2)*np.cos(a)**2/b**2\n",
        "\n",
        "Alg_der_a = jax.grad(func ,0)\n",
        "Alg_der_b = jax.grad(func ,1)\n",
        "\n",
        "def best_diff_a(f, a, b ,h):\n",
        "  output=f(a+h,b) - f(a,b)\n",
        "  return output / h\n",
        "  \n",
        "def best_diff_b(f, a, b ,h):\n",
        "  output=f(a,b+h) - f(a,b)\n",
        "  return output / h\n",
        "\n",
        "def final_A(a,b):\n",
        "  output = 0.099\n",
        "  v = (abs(best_diff_a(der_sym_a, a, b, 0.1) - Alg_der_a(a,b)))\n",
        "  while (v > (abs(best_diff_a(der_sym_a, a, b, output) - Alg_der_a(a,b)))):\n",
        "    v = abs(best_diff_a(der_sym_a, a, b, output) - Alg_der_a(a,b))\n",
        "    output = 0.95 * output\n",
        "  output = output / 0.95\n",
        "  return output\n",
        "\n",
        "def final_B(a,b):\n",
        "  output = 0.099\n",
        "  v = (abs(best_diff_b(der_sym_b, a, b, 0.1) - Alg_der_b(a,b)))\n",
        "  while (v > (abs(best_diff_b(der_sym_b, a, b, output) - Alg_der_b(a,b)))):\n",
        "    v = abs(best_diff_b(der_sym_b, a, b, output) - Alg_der_b(a,b))\n",
        "    output = 0.95 * output\n",
        "  output = output / 0.95\n",
        "  return output\n",
        "\n",
        "print(f\"Best difference for devriation of a with (a,b)=3,10 is {final_A(3.0,10.0)}\")\n",
        "print(f\"Best difference for devriation of b with (a,b)=1,1 is {final_B(1.0,1.0)}\")\n"
      ],
      "execution_count": 5,
      "outputs": [
        {
          "output_type": "stream",
          "name": "stdout",
          "text": [
            "Best difference for devriation of a with (a,b)=3,10 is 0.0012018914603248738\n",
            "Best difference for devriation of b with (a,b)=1,1 is 0.10421052631578949\n"
          ]
        }
      ]
    },
    {
      "cell_type": "markdown",
      "metadata": {
        "id": "mKLhu3Z9a3D5"
      },
      "source": [
        "## Question 2: Optimization\n",
        "\n",
        "### Logistic regression\n",
        "\n",
        "Logistic regression is a statiscal model that models the probability of an event happening. In binary logistic regression there is a single binary dependent variable coded by '0' or '1'.\n",
        "\n",
        "We can express the data as a tuple $(x,y)=(data,outcome)=(x,0/1)$\n",
        "\n",
        "To model the probability of event $x$, we can use the logistic function $p(x)=\\frac{1}{1+e^{-(x-\\mu)/s}}$.\n",
        "\n",
        "To find the appropiate $\\mu$, that maximizes the classifaction accuracy we minimize the loss function $-\\sum_{i=1}^N (y_i \\log p(x_i) + (1 - y_i) \\log (1 - p(x_i)))$.\n",
        "\n",
        "In some cases, we give more importance to correctly classify one event over an other (like contracting an illness over not contracting it), and one way to express this is to add a \"fixing parameter\" in the loss function. One way this can be achieved is by adding weights: $-\\sum_{i=1}^N (W_1y_i \\log p(x_i) + W_2(1 - y_i) \\log (1 - p(x_i)))$.\n"
      ]
    },
    {
      "cell_type": "markdown",
      "source": [
        "For a trial group of 20 rats, ratio of time exposed to a virus and the event of contracting that virus are given as a list of pairs (ratio, illness) (1 corresponds to having the illness):"
      ],
      "metadata": {
        "id": "eExKcFRWmh-T"
      }
    },
    {
      "cell_type": "code",
      "metadata": {
        "id": "5VHUHiJSbDZg"
      },
      "source": [
        "rats = [(0.47, 0), (0.23, 0), (0.86, 1), (0.22, 0), (0.21, 1),\n",
        "        (0.31, 0), (0.62, 0), (0.941, 1), (0.27, 0), (0.35, 1),\n",
        "        (0.18, 0), (0.13, 0), (0.31, 1), (0.99, 1), (0.85, 1), \n",
        "        (0.35, 1), (0.6, 1), (0.89, 0), (0.6, 1), (0.92, 0)]"
      ],
      "execution_count": 6,
      "outputs": []
    },
    {
      "cell_type": "markdown",
      "metadata": {
        "id": "hNnmQ8d2fAOl"
      },
      "source": [
        "We want to predict rat illness based on the ratio of exposure to a virus. The prediction function is\n",
        "\n",
        "$$illness = ratio \\ge threshold.$$\n",
        "\n",
        "The loss for this _classification_ problem is:\n",
        "\n",
        "\\begin{aligned}\n",
        "& L = -\\sum_{i=1}^N (W_1illness_i \\log p_i + W_2(1 - illness_i) \\log (1 - p_i)) \\\\\n",
        "\\mbox{where} & \\\\\n",
        "& p_i = \\frac 1 {1 + \\exp(threshold - ratio_i)}\n",
        "\\\\~\\\\\n",
        "\\mbox{and } &W_{1}, W_{2} \\mbox{ are weights}\n",
        "\\end{aligned}"
      ]
    },
    {
      "cell_type": "markdown",
      "metadata": {
        "id": "Ky3bsw8EgZsJ"
      },
      "source": [
        "1. Implement the loss as a function of the threshold, and weights."
      ]
    },
    {
      "cell_type": "code",
      "metadata": {
        "id": "LZjJjUUWghq-"
      },
      "source": [
        "def loss(thr, w1, w2):\n",
        "  l = 0\n",
        "  for pair in rats:\n",
        "    pi = 1/(1+np.exp(thr-pair[0]))\n",
        "    l += w1*pair[1]*np.log(pi) + w2*(1-pair[1])*np.log(1-pi)\n",
        "  return -l"
      ],
      "execution_count": 7,
      "outputs": []
    },
    {
      "cell_type": "markdown",
      "metadata": {
        "id": "j22eKFdKgkti"
      },
      "source": [
        "2. Plot the loss and the derivative of the loss by the threshold in the range $threshold \\in (0.01, 0.99)$, and $ W_1, W_2 = 1$."
      ]
    },
    {
      "cell_type": "code",
      "metadata": {
        "id": "aFAjQG9Ug052",
        "colab": {
          "base_uri": "https://localhost:8080/",
          "height": 265
        },
        "outputId": "4309682c-71c4-4f63-e1d0-4f19c201c21b"
      },
      "source": [
        "x = np.linspace(0.01, 0.99, 100)\n",
        "der_l = jax.grad(loss)\n",
        "plt.plot(x, [loss(a,1,1) for a in x])\n",
        "plt.plot(x, [der_l(a,1,1) for a in x])\n",
        "plt.show()"
      ],
      "execution_count": 8,
      "outputs": [
        {
          "output_type": "display_data",
          "data": {
            "text/plain": [
              "<Figure size 432x288 with 1 Axes>"
            ],
            "image/png": "[encoded data removed]"
          },
          "metadata": {
            "needs_background": "light"
          }
        }
      ]
    },
    {
      "cell_type": "markdown",
      "metadata": {
        "id": "TIxEbOEdhBKf"
      },
      "source": [
        "3. Find the best threshold using gradient descent, and $ W_1, W_2$ such that the number of true positives (rats which have the illness and were correctly classified) is greater than $80\\%$, but the number of false positives ( rats which dont have the illness and were misclassified) is not $100\\%$. (Note: you can fix $W_2$ to be 1)"
      ]
    },
    {
      "cell_type": "code",
      "metadata": {
        "id": "Q0MMAREahDrT",
        "colab": {
          "base_uri": "https://localhost:8080/"
        },
        "outputId": "d226dba0-6c5a-4f23-a696-93461fe7a0db"
      },
      "source": [
        "from random import random\n",
        "def gd(f,x0,w1=1.2,w2=1,step=0.1,decay=0.995,niter=30): #30 iterations\n",
        "  df=jax.grad(f)\n",
        "  x=x0\n",
        "  for i in range(niter):\n",
        "    x-=df(x,w1,w2)*step \n",
        "    step*= decay\n",
        "  return x\n",
        "\n",
        "x = gd(loss, 0.1*(random()-0.5))\n",
        "print(f\"x={x:.3f}\")"
      ],
      "execution_count": 9,
      "outputs": [
        {
          "output_type": "stream",
          "name": "stdout",
          "text": [
            "x=0.337\n"
          ]
        }
      ]
    },
    {
      "cell_type": "markdown",
      "metadata": {
        "id": "zvD-L4rnhGCN"
      },
      "source": [
        "4. Find the best threshold using Newton's method, given $W_1, W_2$ from previous question. (Newton's method was explained in class). How many iterations were needed?"
      ]
    },
    {
      "cell_type": "code",
      "metadata": {
        "id": "MkF9ML7ohIR4",
        "colab": {
          "base_uri": "https://localhost:8080/"
        },
        "outputId": "75108366-50d7-4250-88ed-0c398fd20fcc"
      },
      "source": [
        "from random import random\n",
        "def newton(f, x0, niter=10): #10 iterations\n",
        "  df = jax.grad(f)\n",
        "  ddf = jax.grad(df)\n",
        "  x = x0\n",
        "  for i in range(niter):\n",
        "    x = x - df(x,1.2,1)/ddf(x,1.2,1)\n",
        "  return x\n",
        "\n",
        "x = newton(loss, 0.1*(random()-0.5))\n",
        "print(f\"x={x:.8f} loss({x:.3f})={loss(x,1.2,1):.3f}\")"
      ],
      "execution_count": 21,
      "outputs": [
        {
          "output_type": "stream",
          "name": "stdout",
          "text": [
            "x=0.33654854 loss(0.337)=14.393\n"
          ]
        }
      ]
    },
    {
      "cell_type": "markdown",
      "metadata": {
        "id": "J17VCw3jlFWm"
      },
      "source": [
        "5. Show actual vs. predicted recoveries as a scatter plot for the best threshold. How many recoveries were misclassified?"
      ]
    },
    {
      "cell_type": "code",
      "metadata": {
        "id": "bGs13-yzlS3B",
        "colab": {
          "base_uri": "https://localhost:8080/",
          "height": 283
        },
        "outputId": "97b4053f-f1d3-447c-9b71-5e533cd73573"
      },
      "source": [
        "thr = 0.33654854 # best threshold\n",
        "x = [] \n",
        "actual_recoveries = [] \n",
        "predicted_recoveries = []\n",
        "missed_recoveries = 0\n",
        "i=0\n",
        "for (ratio,ill) in rats:\n",
        "  x.insert(i,ratio)\n",
        "  actual_recoveries.insert(i,ill)\n",
        "  if ratio > thr:\n",
        "    predicted_recoveries.insert(i,0)\n",
        "    illness = 0 \n",
        "  else:\n",
        "    predicted_recoveries.insert(i,1)\n",
        "    illness = 1 \n",
        "  if illness != ill:\n",
        "    missed_recoveries = missed_recoveries + 1\n",
        "  i+=1 \n",
        "\n",
        "plt.scatter(x,actual_recoveries , color=\"blue\")\n",
        "plt.scatter(x,predicted_recoveries,color = \"black\")\n",
        "print(f\"{missed_recoveries} recoveries were misclassified\")"
      ],
      "execution_count": 20,
      "outputs": [
        {
          "output_type": "stream",
          "name": "stdout",
          "text": [
            "14 recoveries were misclassified\n"
          ]
        },
        {
          "output_type": "display_data",
          "data": {
            "text/plain": [
              "<Figure size 432x288 with 1 Axes>"
            ],
            "image/png": "[encoded data removed]"
          },
          "metadata": {
            "needs_background": "light"
          }
        }
      ]
    }
  ]
}